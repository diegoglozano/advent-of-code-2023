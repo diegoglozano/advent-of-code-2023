{
 "cells": [
  {
   "cell_type": "code",
   "execution_count": 50,
   "metadata": {},
   "outputs": [],
   "source": [
    "import polars as pl\n",
    "import re\n",
    "\n",
    "from pathlib import Path"
   ]
  },
  {
   "cell_type": "code",
   "execution_count": 2,
   "metadata": {},
   "outputs": [
    {
     "data": {
      "text/plain": [
       "[WindowsPath('../data/input_1.txt')]"
      ]
     },
     "execution_count": 2,
     "metadata": {},
     "output_type": "execute_result"
    }
   ],
   "source": [
    "DATA_PATH = Path('..', 'data')\n",
    "list(DATA_PATH.glob('*'))"
   ]
  },
  {
   "cell_type": "code",
   "execution_count": 3,
   "metadata": {},
   "outputs": [],
   "source": [
    "df = (\n",
    "    pl\n",
    "    .read_csv(\n",
    "        DATA_PATH / 'input_1.txt',\n",
    "        has_header=False,\n",
    "    )\n",
    ")"
   ]
  },
  {
   "cell_type": "code",
   "execution_count": 11,
   "metadata": {},
   "outputs": [
    {
     "data": {
      "text/html": [
       "<div><style>\n",
       ".dataframe > thead > tr,\n",
       ".dataframe > tbody > tr {\n",
       "  text-align: right;\n",
       "  white-space: pre-wrap;\n",
       "}\n",
       "</style>\n",
       "<small>shape: (1, 1)</small><table border=\"1\" class=\"dataframe\"><thead><tr><th>column_1</th></tr><tr><td>i32</td></tr></thead><tbody><tr><td>53651</td></tr></tbody></table></div>"
      ],
      "text/plain": [
       "shape: (1, 1)\n",
       "┌──────────┐\n",
       "│ column_1 │\n",
       "│ ---      │\n",
       "│ i32      │\n",
       "╞══════════╡\n",
       "│ 53651    │\n",
       "└──────────┘"
      ]
     },
     "execution_count": 11,
     "metadata": {},
     "output_type": "execute_result"
    }
   ],
   "source": [
    "(\n",
    "    df\n",
    "    .with_columns(\n",
    "        pl.col('column_1').str.extract_all('\\d')\n",
    "    )\n",
    "    .select(\n",
    "        pl\n",
    "        .format(\n",
    "            '{}{}',\n",
    "            pl.col('column_1').list[0], pl.col('column_1').list[-1]\n",
    "        )\n",
    "        .cast(pl.Int32)\n",
    "    )\n",
    "    .sum()\n",
    ")"
   ]
  },
  {
   "cell_type": "code",
   "execution_count": 69,
   "metadata": {},
   "outputs": [],
   "source": [
    "# TODO: avoid .map_elements. How can I extract overlapping matches?"
   ]
  },
  {
   "cell_type": "code",
   "execution_count": 68,
   "metadata": {},
   "outputs": [
    {
     "data": {
      "text/html": [
       "<div><style>\n",
       ".dataframe > thead > tr,\n",
       ".dataframe > tbody > tr {\n",
       "  text-align: right;\n",
       "  white-space: pre-wrap;\n",
       "}\n",
       "</style>\n",
       "<small>shape: (1, 1)</small><table border=\"1\" class=\"dataframe\"><thead><tr><th>column_1</th></tr><tr><td>i32</td></tr></thead><tbody><tr><td>53894</td></tr></tbody></table></div>"
      ],
      "text/plain": [
       "shape: (1, 1)\n",
       "┌──────────┐\n",
       "│ column_1 │\n",
       "│ ---      │\n",
       "│ i32      │\n",
       "╞══════════╡\n",
       "│ 53894    │\n",
       "└──────────┘"
      ]
     },
     "metadata": {},
     "output_type": "display_data"
    }
   ],
   "source": [
    "MAP = {\n",
    "    'one': '1',\n",
    "    'two': '2',\n",
    "    'three': '3',\n",
    "    'four': '4',\n",
    "    'five': '5',\n",
    "    'six': '6',\n",
    "    'seven': '7',\n",
    "    'eight': '8',\n",
    "    'nine': '9',\n",
    "}\n",
    "\n",
    "(\n",
    "    df\n",
    "    .with_columns(\n",
    "        pl\n",
    "        .col('column_1')\n",
    "        .map_elements(\n",
    "            lambda x: re.findall(f\"(?=(\\d|{'|'.join(MAP.keys())}))\", x)\n",
    "        )\n",
    "    )\n",
    "    .with_columns(\n",
    "        pl\n",
    "        .format(\n",
    "            '{}{}',\n",
    "            pl.col('column_1').list[0].replace(MAP),\n",
    "            pl.col('column_1').list[-1].replace(MAP),\n",
    "        )\n",
    "        .cast(pl.Int32)\n",
    "    )\n",
    "    .sum()\n",
    ")"
   ]
  }
 ],
 "metadata": {
  "kernelspec": {
   "display_name": "pruebas2",
   "language": "python",
   "name": "python3"
  },
  "language_info": {
   "codemirror_mode": {
    "name": "ipython",
    "version": 3
   },
   "file_extension": ".py",
   "mimetype": "text/x-python",
   "name": "python",
   "nbconvert_exporter": "python",
   "pygments_lexer": "ipython3",
   "version": "3.8.17"
  }
 },
 "nbformat": 4,
 "nbformat_minor": 2
}
